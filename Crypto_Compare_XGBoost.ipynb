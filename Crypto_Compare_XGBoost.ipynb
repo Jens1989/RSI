{
 "cells": [
  {
   "cell_type": "code",
   "execution_count": 2,
   "metadata": {},
   "outputs": [
    {
     "name": "stderr",
     "output_type": "stream",
     "text": [
      "/Users/niallmurray/anaconda/envs/py36/lib/python3.6/site-packages/lightgbm/__init__.py:46: UserWarning: Starting from version 2.2.1, the library file in distribution wheels for macOS is built by the Apple Clang (Xcode_8.3.3) compiler.\n",
      "This means that in case of installing LightGBM from PyPI via the ``pip install lightgbm`` command, you don't need to install the gcc compiler anymore.\n",
      "Instead of that, you need to install the OpenMP library, which is required for running LightGBM on the system with the Apple Clang compiler.\n",
      "You can install the OpenMP library by the following command: ``brew install libomp``.\n",
      "  \"You can install the OpenMP library by the following command: ``brew install libomp``.\", UserWarning)\n"
     ]
    }
   ],
   "source": [
    "import requests\n",
    "import pandas as pd\n",
    "import numpy as np\n",
    "%matplotlib inline\n",
    "import matplotlib.pyplot as plt\n",
    "import time\n",
    "import datetime\n",
    "from datetime import datetime, date\n",
    "from datetime import timedelta\n",
    "import talib\n",
    "import pickle\n",
    "from scipy import stats\n",
    "from datetime import datetime as dt\n",
    "from sklearn.ensemble import RandomForestClassifier\n",
    "from sklearn.preprocessing import Imputer, RobustScaler\n",
    "from sklearn.pipeline import make_pipeline\n",
    "from sklearn.metrics import accuracy_score, recall_score, precision_score, f1_score, roc_auc_score,log_loss\n",
    "from sklearn.model_selection import GridSearchCV\n",
    "from xgboost import XGBClassifier\n",
    "import lightgbm as lgb"
   ]
  },
  {
   "cell_type": "code",
   "execution_count": 145,
   "metadata": {
    "collapsed": true
   },
   "outputs": [],
   "source": [
    "from_date = date(2013,1,1)\n",
    "to_date = date(2019,1,1)\n",
    "to_date=datetime.now()\n",
    "\n",
    "start= time.mktime(from_date.timetuple())\n",
    "end = time.mktime(to_date.timetuple())\n",
    "\n",
    "tickers = ['USDT_BTC','USDT_ETC','USDT_EOS','USDT_XMR','USDT_ETH','USDT_DASH','USDT_BAT','USDT_GNT',\n",
    " 'USDT_XRP','USDT_LTC','USDT_XLM','USDT_REP','USDT_ZEC','USDT_IOT','USDT_NEO','USDT_BCH','USDT_TRX','USDT_OMG','USDT_XVG']#bitfinex\n",
    "\n",
    "def get_data(date,coin):\n",
    "    \"\"\" Query the API for 2000 days historical price data starting from \"date\". \"\"\"\n",
    "    url = \"https://min-api.cryptocompare.com/data/histohour?fsym=\"+coin+\"&tsym=USD&limit=1000&toTs={}\".format(date)\n",
    "    r = requests.get(url)\n",
    "    ipdata = r.json()\n",
    "    return ipdata\n",
    "\n",
    "def get_hourly(date,coin, exchange=''):\n",
    "    url = 'https://min-api.cryptocompare.com/data/histohour?fsym='+coin+'&tsym=USD&limit=999&toTs={}'\\\n",
    "            .format(date)\n",
    "    if exchange:\n",
    "        url += '&e={}'.format(exchange)\n",
    "    page = requests.get(url)\n",
    "    data = page.json()#['Data']\n",
    "    #df = pd.DataFrame(data)\n",
    "    #df['timestamp'] = [datetime.fromtimestamp(d) for d in df.time]\n",
    "    return data\n",
    "\n",
    "\n",
    "def get_df(from_date, to_date,coin):\n",
    "    \"\"\" Get historical price data between two dates. \"\"\"\n",
    "    date = to_date\n",
    "    holder = []\n",
    "    # While the earliest date returned is later than the earliest date requested, keep on querying the API\n",
    "    # and adding the results to a list. \n",
    "    while date > from_date:\n",
    "        data = get_hourly(date,coin,exchange='Bitfinex')\n",
    "        holder.append(pd.DataFrame(data['Data']))\n",
    "        date = data['TimeFrom']\n",
    "    # Join together all of the API queries in the list.    \n",
    "    df = pd.concat(holder, axis = 0)                    \n",
    "    # Remove data points from before from_date\n",
    "    df = df[df['time']>from_date]                       \n",
    "    # Convert to timestamp to readable date format\n",
    "    df['time'] = pd.to_datetime(df['time'], unit='s')   \n",
    "    # Make the DataFrame index the time\n",
    "    df.set_index('time', inplace=True)                  \n",
    "    # And sort it so its in time order \n",
    "    df.sort_index(ascending=True, inplace=True) \n",
    "    df.to_csv(\"1h_\"+coin + '.csv')\n",
    "    print('Processed: ' + coin)\n",
    "    return df\n",
    "\n",
    "\n",
    "#for x in tickers:\n",
    "   # get_df(start,end,x[5:])\n",
    "    "
   ]
  },
  {
   "cell_type": "code",
   "execution_count": 63,
   "metadata": {
    "collapsed": true
   },
   "outputs": [],
   "source": [
    "#Includes Profit\n",
    "def retrieve_symbol_name(coin,window):\n",
    "    col=['date','close']\n",
    "    ndf=pd.read_csv(\"1h_\"+coin+'.csv',index_col='time')\n",
    "    ndf=ndf.drop([\"volumefrom\"],axis=1)\n",
    "    ndf.index=pd.to_datetime(ndf.index)\n",
    "    df=pd.DataFrame()\n",
    "    unique_dates=ndf.index.drop_duplicates(keep='first')\n",
    "    for i in unique_dates:\n",
    "        if len(ndf.loc[i])>2:\n",
    "            df=df.append(ndf.loc[i])\n",
    "        else:\n",
    "            df=df.append(ndf.loc[i].iloc[1,:])\n",
    "    df['%_change']=df['close'].pct_change()\n",
    "    df['coin']=coin\n",
    "    df['RSI']=talib.RSI(df['close'], timeperiod=window)\n",
    "    df['RSI_10']=df['RSI'].rolling(10).mean()\n",
    "    df['RSI_50']=df['RSI'].rolling(50).mean()\n",
    "    df['RSI_up']= (df['RSI_10']> df['RSI_50']).astype(float)\n",
    "    df['10_MA']=df['close'].rolling(10).mean()\n",
    "    df['50_MA']=df['close'].rolling(50).mean()\n",
    "    df['MA_up']= (df['10_MA']> df['50_MA']).astype(float)\n",
    "    df['volume_10']=df['volumeto'].rolling(10).mean()\n",
    "    df['volume_50']=df['volumeto'].rolling(50).mean()\n",
    "    df['vol_up']= (df['volume_10']> df['volume_50']).astype(float)\n",
    "    df['vol']=df['%_change'].rolling(30).var()\n",
    "    df['50_vol']=df['vol'].rolling(50).mean()\n",
    "    df['200_vol']=df['vol'].rolling(200).mean()\n",
    "    close = df['close']\n",
    "    high = df['high']\n",
    "    low = df['low']\n",
    "    df['ATR'] = talib.ATR(high, low, close, window)\n",
    "    df['50_Std']=df['%_change'].rolling(50*6).std()\n",
    "    df['rise']=(df['%_change']>2*df['50_Std']).astype(float)\n",
    "    df['fall']=(df['%_change']<-2*df['50_Std']).astype(float)\n",
    "    df['ADX'] = talib.ADX(high, low, close, window)\n",
    "    macd, macdsignal, macdhist = talib.MACD(df['close'], fastperiod=12, slowperiod=26, signalperiod=9)\n",
    "    df['MACD']=macd\n",
    "    df['MACD_Hist']=macdhist\n",
    "    df['MACD_Signal']=macdsignal\n",
    "    df['MACD_Hist_change']= df['MACD_Hist'].pct_change()\n",
    "    df['Hist_std']=df['MACD_Hist_change'].rolling(50*6).std()\n",
    "    df['MACD_signal']=(df['MACD_Hist_change']>df['Hist_std']).astype(float)\n",
    "    df.index=pd.to_datetime(df.index)\n",
    "    df=df.dropna()\n",
    "    hour=[]\n",
    "    for i in df.index:\n",
    "        hour.append(int(str(i)[11:13]))\n",
    "    df['hour']=hour\n",
    "    df['1_day_high']=df['high'].rolling(24).max()\n",
    "    df['1_day_low']=df['low'].rolling(24).min()\n",
    "    low=[]\n",
    "    maxx=[]\n",
    "    date=[]\n",
    "    exit=[]\n",
    "    for i in df.index:\n",
    "        if i+timedelta(hours=24) < df.index[-1]:\n",
    "            low.append(df['1_day_low'].loc[i+timedelta(hours=24)])\n",
    "            maxx.append(df['1_day_high'].loc[i+timedelta(hours=24)])\n",
    "            date.append(i)\n",
    "            exit.append(df['close'].loc[i+timedelta(hours=24)])\n",
    "    df2=[date,maxx,low,exit]\n",
    "    df2=pd.DataFrame(df2)\n",
    "    df2=df2.transpose()\n",
    "    df2.columns=['date','1day_high','1day_low','exit']\n",
    "    df2.index=df2['date']\n",
    "    df2=df2.drop(['date'],axis=1)\n",
    "    df=df.dropna()\n",
    "    merged=df2.join(df,how='outer')\n",
    "    merged=merged.dropna()\n",
    "    merged=merged.drop(['1_day_high','1_day_low'],axis=1)\n",
    "    merged['Pnl_Long']=((merged['exit']-merged['close'])/merged['close'])*100\n",
    "    merged['Pnl_Short']=((-merged['exit']+merged['close'])/merged['close'])*100\n",
    "    \n",
    "    merged['exit']=pd.to_numeric(merged['exit'])\n",
    "    merged['1day_high']=pd.to_numeric(merged['1day_high'])\n",
    "    merged['1day_low']=pd.to_numeric(merged['1day_low'])\n",
    "    merged['Pnl_Long']=pd.to_numeric(merged['Pnl_Long'])\n",
    "    merged['Pnl_Short']=pd.to_numeric(merged['Pnl_Short'])\n",
    "    return merged\n",
    "\n",
    "def all_coins():\n",
    "    start=time.time()\n",
    "    df=retrieve_symbol_name('BTC',14)\n",
    "    tickers = ['USDT_BTC','USDT_ETC','USDT_EOS','USDT_XMR','USDT_ETH','USDT_DASH','USDT_BAT','USDT_GNT','USDT_XRP','USDT_LTC','USDT_XLM','USDT_REP','USDT_ZEC','USDT_IOT','USDT_NEO','USDT_BCH','USDT_TRX','USDT_OMG','USDT_XVG']\n",
    "    for x in tickers:\n",
    "        df=df.append(retrieve_symbol_name(x[5:],14))\n",
    "    df=df.sort_index()\n",
    "    print (\"Runtime is \" +str(time.time()-start)+\" seconds\")\n",
    "    return df\n",
    "#df=all_coins()\n",
    "\n",
    "#pickle the dataframe\n",
    "filename = '1hr_df'\n",
    "outfile = open(filename,'wb')\n",
    "pickle.dump(df,outfile)\n",
    "outfile.close()\n",
    "\n"
   ]
  },
  {
   "cell_type": "code",
   "execution_count": 3,
   "metadata": {},
   "outputs": [],
   "source": [
    "filename = '1hr_df'\n",
    "infile = open(filename,'rb')\n",
    "df = pickle.load(infile)\n",
    "infile.close()"
   ]
  },
  {
   "cell_type": "code",
   "execution_count": 6,
   "metadata": {},
   "outputs": [
    {
     "name": "stdout",
     "output_type": "stream",
     "text": [
      "Percent of Target Trades: 0.3820791590665905\n"
     ]
    },
    {
     "data": {
      "text/plain": [
       "180371"
      ]
     },
     "execution_count": 6,
     "metadata": {},
     "output_type": "execute_result"
    }
   ],
   "source": [
    "def entry_filter(df):\n",
    "    df3=df.loc[(df['RSI_up']<1)].copy()# basic entry signal\n",
    "    #df3['max_return']=(-df3['1day_low']+df3['close'])/df3['close']\n",
    "    df3['max_return']=(df3['1day_high']-df3['close'])/df3['close']\n",
    "    df3['label']=(df3['max_return']>0.04).astype(int)#trying to identify trades who have bigger potential\n",
    "    return df3\n",
    "\n",
    "def entry_filter_v2(df):\n",
    "    df3=df.loc[(df['RSI_up'] > 0)].copy()# & (df['MACD_Hist'] > 0)].copy()\n",
    "    #df3['max_return']=(df3['1day_high']-df3['close'])/df3['close']\n",
    "    #df3['label']=(df3['max_return']>0.02).astype(int)\n",
    "    return df3\n",
    "\n",
    "entry=entry_filter(df)\n",
    "\n",
    "\n",
    "features=entry.columns[3:-4]\n",
    "features=list(features)\n",
    "features.remove('coin')\n",
    "\n",
    "print('Percent of Target Trades:', entry.label.sum() / float(len(entry)))\n",
    "len(entry)"
   ]
  },
  {
   "cell_type": "code",
   "execution_count": 8,
   "metadata": {},
   "outputs": [
    {
     "name": "stdout",
     "output_type": "stream",
     "text": [
      "Length of Training Set: 122047\n",
      "Length of Testing Set: 58324\n"
     ]
    }
   ],
   "source": [
    "\n",
    "### Split the data into training, testing sets ### this should be random\n",
    "train = entry[(pd.to_datetime(entry.index) < pd.to_datetime('2018-08-01')) & \n",
    "           (pd.to_datetime(entry.index) >= pd.to_datetime('2013-01-01'))]\n",
    "test = entry[pd.to_datetime(entry.index) >= pd.to_datetime('2018-08-01')]\n",
    "X_train = train.loc[:,features]\n",
    "y_train = train.loc[:,'label']\n",
    "X_test = test.loc[:,features]\n",
    "\n",
    "y_test = test.loc[:,'label']\n",
    "print('Length of Training Set: ' + str(len(train)))\n",
    "print('Length of Testing Set: ' + str(len(test)))\n",
    "    \n"
   ]
  },
  {
   "cell_type": "code",
   "execution_count": 241,
   "metadata": {},
   "outputs": [
    {
     "name": "stderr",
     "output_type": "stream",
     "text": [
      "/Users/niallmurray/anaconda/envs/py36/lib/python3.6/site-packages/lightgbm/engine.py:118: UserWarning: Found `num_trees` in params. Will use it instead of argument\n",
      "  warnings.warn(\"Found `{}` in params. Will use it instead of argument\".format(alias))\n"
     ]
    }
   ],
   "source": [
    "#optimise hyperparameters, choose set with lowesest log_logloss\n",
    "log_losses={}\n",
    "score=0\n",
    "bs=1\n",
    "bn=0\n",
    "bd=0\n",
    "bl=0\n",
    "blr=0\n",
    "bln=0\n",
    "for n in range(300,600,100):\n",
    "    for md in range(1,4):\n",
    "        for mln in range(50,400,100):\n",
    "            for nl in range(10,20,10):\n",
    "                for lr in frange(.001,.01,.002):\n",
    "                    param = {'max_depth':md, 'num_leaves':nl, 'learning_rate':lr, 'num_trees':n,'num_threads':-1,\n",
    "         'min_data_in_leaf':mln, 'objective':'binary', 'metric':'binary_logloss','verbosity':-1}\n",
    "                    data = lgb.Dataset(X_train, y_train)\n",
    "                    bst=lgb.train(param, data)\n",
    "                    y_pred=bst.predict(X_test)\n",
    "                    sc=log_loss(y_test,y_pred)\n",
    "                    log_losses[str(n)+'_'+str(md)+'_'+str(mln)+'_'+str(nl)+'_'+str(lr)]=sc\n",
    "                    if sc<bs:\n",
    "                        bs=sc\n",
    "                        bn=n\n",
    "                        bd=md\n",
    "                        bl=nl\n",
    "                        blr=lr\n",
    "                        bln=mln\n",
    "                        "
   ]
  },
  {
   "cell_type": "code",
   "execution_count": 242,
   "metadata": {
    "collapsed": true
   },
   "outputs": [
    {
     "data": {
      "text/html": [
       "<div>\n",
       "<table border=\"1\" class=\"dataframe\">\n",
       "  <thead>\n",
       "    <tr style=\"text-align: right;\">\n",
       "      <th></th>\n",
       "      <th>score</th>\n",
       "      <th>num_trees</th>\n",
       "      <th>max_depth</th>\n",
       "      <th>min_leaf_data</th>\n",
       "      <th>num_leaves</th>\n",
       "      <th>learning_rate</th>\n",
       "    </tr>\n",
       "  </thead>\n",
       "  <tbody>\n",
       "    <tr>\n",
       "      <th>114</th>\n",
       "      <td>0.6045</td>\n",
       "      <td>400</td>\n",
       "      <td>3</td>\n",
       "      <td>250</td>\n",
       "      <td>10</td>\n",
       "      <td>0.009</td>\n",
       "    </tr>\n",
       "    <tr>\n",
       "      <th>84</th>\n",
       "      <td>0.6045</td>\n",
       "      <td>400</td>\n",
       "      <td>2</td>\n",
       "      <td>50</td>\n",
       "      <td>10</td>\n",
       "      <td>0.009</td>\n",
       "    </tr>\n",
       "    <tr>\n",
       "      <th>143</th>\n",
       "      <td>0.6046</td>\n",
       "      <td>500</td>\n",
       "      <td>2</td>\n",
       "      <td>50</td>\n",
       "      <td>10</td>\n",
       "      <td>0.007</td>\n",
       "    </tr>\n",
       "    <tr>\n",
       "      <th>119</th>\n",
       "      <td>0.6048</td>\n",
       "      <td>400</td>\n",
       "      <td>3</td>\n",
       "      <td>350</td>\n",
       "      <td>10</td>\n",
       "      <td>0.009</td>\n",
       "    </tr>\n",
       "    <tr>\n",
       "      <th>173</th>\n",
       "      <td>0.6049</td>\n",
       "      <td>500</td>\n",
       "      <td>3</td>\n",
       "      <td>250</td>\n",
       "      <td>10</td>\n",
       "      <td>0.007</td>\n",
       "    </tr>\n",
       "  </tbody>\n",
       "</table>\n",
       "</div>"
      ],
      "text/plain": [
       "      score  num_trees  max_depth  min_leaf_data  num_leaves  learning_rate\n",
       "114  0.6045        400          3            250          10          0.009\n",
       "84   0.6045        400          2             50          10          0.009\n",
       "143  0.6046        500          2             50          10          0.007\n",
       "119  0.6048        400          3            350          10          0.009\n",
       "173  0.6049        500          3            250          10          0.007"
      ]
     },
     "execution_count": 242,
     "metadata": {},
     "output_type": "execute_result"
    }
   ],
   "source": [
    "def optimal_param(data):\n",
    "    df=pd.DataFrame.from_dict(data,orient='index')\n",
    "    df.columns=['score']\n",
    "    df=df.reset_index()\n",
    "    split = df[\"index\"].str.split(\"_\", n = 4, expand = True) \n",
    "    df=df.join(split,how='outer')\n",
    "    df=df.iloc[:,1:]\n",
    "    df.columns=['score','num_trees','max_depth','min_leaf_data','num_leaves','learning_rate']\n",
    "    for i in range(1,6):\n",
    "        df.iloc[:,i]=pd.to_numeric(df.iloc[:,i])\n",
    "    df=df.round(4)\n",
    "    df=df.sort_values(by=['score'])\n",
    "    return df\n",
    "\n",
    "opt=optimal_param(log_losses)\n",
    "opt.head()"
   ]
  },
  {
   "cell_type": "code",
   "execution_count": 11,
   "metadata": {},
   "outputs": [
    {
     "name": "stderr",
     "output_type": "stream",
     "text": [
      "/Users/niallmurray/anaconda/envs/py36/lib/python3.6/site-packages/lightgbm/engine.py:118: UserWarning: Found `num_trees` in params. Will use it instead of argument\n",
      "  warnings.warn(\"Found `{}` in params. Will use it instead of argument\".format(alias))\n"
     ]
    },
    {
     "data": {
      "text/plain": [
       "'Predicted trades 0.3536175374268939  :  Actual trades 0.36127494684863865'"
      ]
     },
     "execution_count": 11,
     "metadata": {},
     "output_type": "execute_result"
    }
   ],
   "source": [
    "data = lgb.Dataset(X_train, y_train)\n",
    "#param = {'max_depth':opt['max_depth'], 'num_leaves':opt['num_leaves'], 'learning_rate':opt['learning_rate'], 'num_trees':opt['num_trees'],'num_threads':-1,\n",
    "         #'min_data_in_leaf':opt['min_leaf_data'], 'objective':'binary', 'metric':'binary_logloss','verbosity':-1}\n",
    "param = {'max_depth':2, 'num_leaves':10, 'learning_rate':0.01, 'num_trees':400,'num_threads':-1,\n",
    "         'min_data_in_leaf':50, 'objective':'binary', 'metric':'binary_logloss','verbosity':-1}\n",
    "bst = lgb.train(param, data)\n",
    "y_pred = bst.predict(X_test)\n",
    "\n",
    "#pickle the decision rules\n",
    "filename = 'forest'\n",
    "outfile = open(filename,'wb')\n",
    "pickle.dump(bst,outfile)\n",
    "outfile.close()\n",
    "\n",
    "'Predicted trades '+str((y_pred.sum())/len(test))+'  :  Actual trades '+str((test.label.sum())/len(test))"
   ]
  },
  {
   "cell_type": "code",
   "execution_count": 12,
   "metadata": {},
   "outputs": [
    {
     "name": "stderr",
     "output_type": "stream",
     "text": [
      "/Users/niallmurray/anaconda/envs/py36/lib/python3.6/site-packages/ipykernel_launcher.py:4: SettingWithCopyWarning: \n",
      "A value is trying to be set on a copy of a slice from a DataFrame.\n",
      "Try using .loc[row_indexer,col_indexer] = value instead\n",
      "\n",
      "See the caveats in the documentation: http://pandas.pydata.org/pandas-docs/stable/indexing.html#indexing-view-versus-copy\n",
      "  after removing the cwd from sys.path.\n"
     ]
    }
   ],
   "source": [
    "trades = test.assign(pred = y_pred)\n",
    "trades = trades[trades.pred >0.5]\n",
    "trades['cpl'] = trades.Pnl_Long.cumsum()\n",
    "test['cpl'] = test.Pnl_Long.cumsum()"
   ]
  },
  {
   "cell_type": "code",
   "execution_count": 13,
   "metadata": {},
   "outputs": [
    {
     "data": {
      "text/plain": [
       "0.5806609156992452"
      ]
     },
     "execution_count": 13,
     "metadata": {},
     "output_type": "execute_result"
    }
   ],
   "source": [
    "log_loss(y_test,y_pred)"
   ]
  },
  {
   "cell_type": "code",
   "execution_count": 23,
   "metadata": {},
   "outputs": [
    {
     "data": {
      "text/html": [
       "<div>\n",
       "<table border=\"1\" class=\"dataframe\">\n",
       "  <thead>\n",
       "    <tr style=\"text-align: right;\">\n",
       "      <th></th>\n",
       "      <th>Mean_Return</th>\n",
       "      <th>Std</th>\n",
       "      <th>Count</th>\n",
       "      <th>Total</th>\n",
       "      <th>Sharpe</th>\n",
       "      <th>Sortino</th>\n",
       "      <th>Calmar</th>\n",
       "      <th>1day_Calmar</th>\n",
       "    </tr>\n",
       "  </thead>\n",
       "  <tbody>\n",
       "    <tr>\n",
       "      <th>0.50</th>\n",
       "      <td>1.101261</td>\n",
       "      <td>7.824983</td>\n",
       "      <td>11546.0</td>\n",
       "      <td>12715.155692</td>\n",
       "      <td>0.140736</td>\n",
       "      <td>0.210613</td>\n",
       "      <td>3.003688</td>\n",
       "      <td>0.023959</td>\n",
       "    </tr>\n",
       "    <tr>\n",
       "      <th>0.55</th>\n",
       "      <td>1.134895</td>\n",
       "      <td>7.970589</td>\n",
       "      <td>8021.0</td>\n",
       "      <td>9102.990252</td>\n",
       "      <td>0.142385</td>\n",
       "      <td>0.207693</td>\n",
       "      <td>3.007084</td>\n",
       "      <td>0.024691</td>\n",
       "    </tr>\n",
       "    <tr>\n",
       "      <th>0.60</th>\n",
       "      <td>1.597444</td>\n",
       "      <td>8.095446</td>\n",
       "      <td>5216.0</td>\n",
       "      <td>8332.269615</td>\n",
       "      <td>0.197326</td>\n",
       "      <td>0.278556</td>\n",
       "      <td>3.007084</td>\n",
       "      <td>0.034754</td>\n",
       "    </tr>\n",
       "    <tr>\n",
       "      <th>0.65</th>\n",
       "      <td>2.450625</td>\n",
       "      <td>8.311207</td>\n",
       "      <td>2604.0</td>\n",
       "      <td>6381.428116</td>\n",
       "      <td>0.294858</td>\n",
       "      <td>0.367514</td>\n",
       "      <td>3.014965</td>\n",
       "      <td>0.053315</td>\n",
       "    </tr>\n",
       "    <tr>\n",
       "      <th>0.70</th>\n",
       "      <td>3.634282</td>\n",
       "      <td>8.251007</td>\n",
       "      <td>1288.0</td>\n",
       "      <td>4680.955136</td>\n",
       "      <td>0.440465</td>\n",
       "      <td>0.494378</td>\n",
       "      <td>2.982935</td>\n",
       "      <td>0.079067</td>\n",
       "    </tr>\n",
       "    <tr>\n",
       "      <th>0.75</th>\n",
       "      <td>6.089316</td>\n",
       "      <td>7.120099</td>\n",
       "      <td>495.0</td>\n",
       "      <td>3014.211391</td>\n",
       "      <td>0.855229</td>\n",
       "      <td>1.594667</td>\n",
       "      <td>3.336212</td>\n",
       "      <td>0.295133</td>\n",
       "    </tr>\n",
       "    <tr>\n",
       "      <th>0.80</th>\n",
       "      <td>7.099183</td>\n",
       "      <td>7.558568</td>\n",
       "      <td>113.0</td>\n",
       "      <td>802.207704</td>\n",
       "      <td>0.939223</td>\n",
       "      <td>1.480276</td>\n",
       "      <td>3.011281</td>\n",
       "      <td>0.587349</td>\n",
       "    </tr>\n",
       "  </tbody>\n",
       "</table>\n",
       "</div>"
      ],
      "text/plain": [
       "      Mean_Return       Std    Count         Total    Sharpe   Sortino  \\\n",
       "0.50     1.101261  7.824983  11546.0  12715.155692  0.140736  0.210613   \n",
       "0.55     1.134895  7.970589   8021.0   9102.990252  0.142385  0.207693   \n",
       "0.60     1.597444  8.095446   5216.0   8332.269615  0.197326  0.278556   \n",
       "0.65     2.450625  8.311207   2604.0   6381.428116  0.294858  0.367514   \n",
       "0.70     3.634282  8.251007   1288.0   4680.955136  0.440465  0.494378   \n",
       "0.75     6.089316  7.120099    495.0   3014.211391  0.855229  1.594667   \n",
       "0.80     7.099183  7.558568    113.0    802.207704  0.939223  1.480276   \n",
       "\n",
       "        Calmar  1day_Calmar  \n",
       "0.50  3.003688     0.023959  \n",
       "0.55  3.007084     0.024691  \n",
       "0.60  3.007084     0.034754  \n",
       "0.65  3.014965     0.053315  \n",
       "0.70  2.982935     0.079067  \n",
       "0.75  3.336212     0.295133  \n",
       "0.80  3.011281     0.587349  "
      ]
     },
     "execution_count": 23,
     "metadata": {},
     "output_type": "execute_result"
    }
   ],
   "source": [
    "def drawdowns(equity_curve):\n",
    "    # Calculate the cumulative returns curve \n",
    "    # and set up the High Water Mark\n",
    "    # Then create the drawdown and duration series\n",
    "    hwm = [0]\n",
    "    eq_idx = equity_curve.index\n",
    "    drawdown = pd.Series(index = eq_idx)\n",
    "    duration = pd.Series(index = eq_idx)\n",
    "\n",
    "    # Loop over the index range\n",
    "    for t in range(1, len(eq_idx)):\n",
    "        cur_hwm = max(hwm[t-1], equity_curve[t])\n",
    "        hwm.append(cur_hwm)\n",
    "        drawdown[t]= hwm[t] - equity_curve[t]\n",
    "        duration[t]= 0 if drawdown[t] == 0 else duration[t-1] + 1\n",
    "    return drawdown.max()#, duration\n",
    "\n",
    "def stats_v2(trades,y_pred,prob):\n",
    "    trades = test.assign(pred = y_pred)\n",
    "    trades = trades[trades.pred>prob]\n",
    "    col=['Mean_Return','Std','Count','Total','Sharpe']\n",
    "    df=[trades.Pnl.mean(),trades.Pnl.std(),len(trades),trades.Pnl.sum(),trades.Pnl.mean()/trades.Pnl.std()]\n",
    "    df=pd.DataFrame(df)\n",
    "    df=df.transpose()\n",
    "    df.columns=col\n",
    "    return df\n",
    "\n",
    "def stats(trades,test,y_pred,prob,t):\n",
    "    #trades = test.assign(pred = y_pred)\n",
    "    trades = trades[trades.pred>prob]\n",
    "    ret=trades.Pnl_Long\n",
    "    neg=ret[ret<0]\n",
    "    bench=test.Pnl_Long\n",
    "    neg1=bench[bench<0]\n",
    "    col=['Mean_Return','Std','Count','Total','Sharpe','Sortino','Calmar','1day_Calmar']\n",
    "    df=[ret.mean(),ret.std(),len(trades),ret.sum(),ret.mean()/ret.std(),ret.mean()/neg.std(),trades.cpl.max()/drawdowns(trades.cpl),ret.mean()/abs(ret.min())]\n",
    "    df1=[bench.mean(),bench.std(),len(test),bench.sum(),bench.mean()/bench.std(),ret.mean()/neg1.std(),test.cpl.max()/drawdowns(test.cpl),bench.mean()/abs(bench.min())]\n",
    "    df1=pd.DataFrame(df1)\n",
    "    df1=df1.transpose()\n",
    "    df1.columns=col\n",
    "    df=pd.DataFrame(df)\n",
    "    df=df.transpose()\n",
    "    df.columns=col\n",
    "    if t=='base':\n",
    "        df=df.append(df1)\n",
    "        df.index=['ML','Basic']\n",
    "    return df\n",
    "\n",
    "def frange(x, y, jump):\n",
    "    while x < y:\n",
    "        yield x\n",
    "        x += jump\n",
    "\n",
    "def opt_prob():\n",
    "    p=.5\n",
    "    prob=[p]\n",
    "    df=stats(trades,test,y_pred,p,'t')  \n",
    "    for x in frange(.55,trades.pred.max(),.05):\n",
    "        df=df.append(stats(trades,test,y_pred,x,'t'))\n",
    "        prob.append(x)\n",
    "    df.index=prob\n",
    "    return df\n",
    "\n",
    "#s=stats(trades,test,y_pred,.8,'base')\n",
    "\n",
    "opt=opt_prob()\n",
    "opt\n"
   ]
  },
  {
   "cell_type": "code",
   "execution_count": 24,
   "metadata": {},
   "outputs": [
    {
     "data": {
      "text/html": [
       "<div>\n",
       "<table border=\"1\" class=\"dataframe\">\n",
       "  <thead>\n",
       "    <tr style=\"text-align: right;\">\n",
       "      <th></th>\n",
       "      <th>Mean_Return</th>\n",
       "      <th>Std</th>\n",
       "      <th>Count</th>\n",
       "      <th>Total</th>\n",
       "      <th>Sharpe</th>\n",
       "      <th>Sortino</th>\n",
       "      <th>Calmar</th>\n",
       "      <th>1day_Calmar</th>\n",
       "    </tr>\n",
       "  </thead>\n",
       "  <tbody>\n",
       "    <tr>\n",
       "      <th>ML</th>\n",
       "      <td>1.134895</td>\n",
       "      <td>7.970589</td>\n",
       "      <td>8021.0</td>\n",
       "      <td>9102.990252</td>\n",
       "      <td>0.142385</td>\n",
       "      <td>0.207693</td>\n",
       "      <td>3.007084</td>\n",
       "      <td>0.024691</td>\n",
       "    </tr>\n",
       "    <tr>\n",
       "      <th>Basic</th>\n",
       "      <td>0.304009</td>\n",
       "      <td>5.719904</td>\n",
       "      <td>58324.0</td>\n",
       "      <td>17730.994080</td>\n",
       "      <td>0.053149</td>\n",
       "      <td>0.275098</td>\n",
       "      <td>0.956153</td>\n",
       "      <td>0.006614</td>\n",
       "    </tr>\n",
       "  </tbody>\n",
       "</table>\n",
       "</div>"
      ],
      "text/plain": [
       "       Mean_Return       Std    Count         Total    Sharpe   Sortino  \\\n",
       "ML        1.134895  7.970589   8021.0   9102.990252  0.142385  0.207693   \n",
       "Basic     0.304009  5.719904  58324.0  17730.994080  0.053149  0.275098   \n",
       "\n",
       "         Calmar  1day_Calmar  \n",
       "ML     3.007084     0.024691  \n",
       "Basic  0.956153     0.006614  "
      ]
     },
     "execution_count": 24,
     "metadata": {},
     "output_type": "execute_result"
    }
   ],
   "source": [
    "s=stats(trades,test,y_pred,.55,'base')\n",
    "s"
   ]
  },
  {
   "cell_type": "code",
   "execution_count": 25,
   "metadata": {},
   "outputs": [
    {
     "name": "stderr",
     "output_type": "stream",
     "text": [
      "/Users/niallmurray/anaconda/envs/py36/lib/python3.6/site-packages/ipykernel_launcher.py:3: SettingWithCopyWarning: \n",
      "A value is trying to be set on a copy of a slice from a DataFrame.\n",
      "Try using .loc[row_indexer,col_indexer] = value instead\n",
      "\n",
      "See the caveats in the documentation: http://pandas.pydata.org/pandas-docs/stable/indexing.html#indexing-view-versus-copy\n",
      "  This is separate from the ipykernel package so we can avoid doing imports until\n"
     ]
    },
    {
     "name": "stdout",
     "output_type": "stream",
     "text": [
      "Original PnL - No ML\n"
     ]
    },
    {
     "data": {
      "image/png": "[encoded data removed]",
      "text/plain": [
       "<Figure size 720x360 with 1 Axes>"
      ]
     },
     "metadata": {},
     "output_type": "display_data"
    },
    {
     "name": "stdout",
     "output_type": "stream",
     "text": [
      "----------------\n",
      "PnL with ML\n"
     ]
    },
    {
     "data": {
      "image/png": "[encoded data removed]",
      "text/plain": [
       "<Figure size 720x360 with 1 Axes>"
      ]
     },
     "metadata": {},
     "output_type": "display_data"
    }
   ],
   "source": [
    "trades['cpl'] = trades.Pnl_Long.cumsum()\n",
    "\n",
    "test['cpl'] = test.Pnl_Long.cumsum()\n",
    "print('Original PnL - No ML')\n",
    "\n",
    "test.plot(x=test.index,y='cpl',figsize=[10,5])\n",
    "plt.show()\n",
    "print('----------------')\n",
    "print('PnL with ML')\n",
    "trades.plot(x=trades.index,y='cpl',figsize=[10,5])\n",
    "plt.show()"
   ]
  },
  {
   "cell_type": "code",
   "execution_count": 169,
   "metadata": {},
   "outputs": [
    {
     "name": "stderr",
     "output_type": "stream",
     "text": [
      "/Users/niallmurray/anaconda/envs/py36/lib/python3.6/site-packages/ipykernel_launcher.py:3: SettingWithCopyWarning: \n",
      "A value is trying to be set on a copy of a slice from a DataFrame.\n",
      "Try using .loc[row_indexer,col_indexer] = value instead\n",
      "\n",
      "See the caveats in the documentation: http://pandas.pydata.org/pandas-docs/stable/indexing.html#indexing-view-versus-copy\n",
      "  This is separate from the ipykernel package so we can avoid doing imports until\n"
     ]
    },
    {
     "name": "stdout",
     "output_type": "stream",
     "text": [
      "Original PnL - No ML\n"
     ]
    },
    {
     "data": {
      "image/png": "[encoded data removed]",
      "text/plain": [
       "<Figure size 720x360 with 1 Axes>"
      ]
     },
     "metadata": {},
     "output_type": "display_data"
    },
    {
     "name": "stdout",
     "output_type": "stream",
     "text": [
      "----------------\n",
      "PnL with ML\n"
     ]
    },
    {
     "data": {
      "image/png": "[encoded data removed]",
      "text/plain": [
       "<Figure size 720x360 with 1 Axes>"
      ]
     },
     "metadata": {},
     "output_type": "display_data"
    }
   ],
   "source": [
    "trades['cpl'] = trades.Pnl_Long.cumsum()\n",
    "\n",
    "test['cpl'] = test.Pnl_Long.cumsum()\n",
    "print('Original PnL - No ML')\n",
    "\n",
    "test.plot(x=test.index,y='cpl',figsize=[10,5])\n",
    "plt.show()\n",
    "print('----------------')\n",
    "print('PnL with ML')\n",
    "trades.plot(x=trades.index,y='cpl',figsize=[10,5])\n",
    "plt.show()"
   ]
  },
  {
   "cell_type": "code",
   "execution_count": 305,
   "metadata": {},
   "outputs": [
    {
     "name": "stdout",
     "output_type": "stream",
     "text": [
      "Data Types:\n",
      "1day_high float32\n",
      "Pnl float32\n"
     ]
    }
   ],
   "source": [
    "# Check type of each feature is float\n",
    "print('Data Types:')\n",
    "x=list(df.columns)\n",
    "for i in x:\n",
    "    t = df[i].dtype\n",
    "    if t != float:\n",
    "        print(i, t)\n",
    "        x.remove(i)"
   ]
  },
  {
   "cell_type": "code",
   "execution_count": 287,
   "metadata": {
    "collapsed": true
   },
   "outputs": [],
   "source": [
    "daa=[]\n",
    "for i in df.index:\n",
    "    if str(type(df['Pnl'].loc[i])) !=\"<class 'numpy.float64'>\":\n",
    "        daa.append(i)\n",
    "        "
   ]
  },
  {
   "cell_type": "code",
   "execution_count": 304,
   "metadata": {},
   "outputs": [
    {
     "name": "stderr",
     "output_type": "stream",
     "text": [
      "/Users/niallmurray/anaconda/envs/py36/lib/python3.6/site-packages/ipykernel_launcher.py:2: FutureWarning: convert_objects is deprecated.  Use the data-type specific converters pd.to_datetime, pd.to_timedelta and pd.to_numeric.\n",
      "  \n"
     ]
    }
   ],
   "source": [
    "#df['1day_high']=pd.to_numeric(df['1day_high'],errors='coerce')\n",
    "df['1day_high']=df['1day_high'].convert_objects(convert_numeric=True)"
   ]
  },
  {
   "cell_type": "code",
   "execution_count": 290,
   "metadata": {},
   "outputs": [
    {
     "data": {
      "text/plain": [
       "numpy.float32"
      ]
     },
     "execution_count": 290,
     "metadata": {},
     "output_type": "execute_result"
    }
   ],
   "source": [
    "type(df['Pnl'].loc[daa[0]])"
   ]
  },
  {
   "cell_type": "code",
   "execution_count": 307,
   "metadata": {},
   "outputs": [
    {
     "data": {
      "text/plain": [
       "numpy.float32"
      ]
     },
     "execution_count": 307,
     "metadata": {},
     "output_type": "execute_result"
    }
   ],
   "source": [
    "type(df['1day_high'][0])"
   ]
  },
  {
   "cell_type": "code",
   "execution_count": null,
   "metadata": {
    "collapsed": true
   },
   "outputs": [],
   "source": []
  },
  {
   "cell_type": "code",
   "execution_count": 248,
   "metadata": {
    "collapsed": true
   },
   "outputs": [
    {
     "data": {
      "text/plain": [
       "[Timestamp('2015-02-22 20:00:00'),\n",
       " Timestamp('2015-02-22 20:00:00'),\n",
       " Timestamp('2015-04-05 11:00:00'),\n",
       " Timestamp('2015-04-05 11:00:00'),\n",
       " Timestamp('2015-05-17 02:00:00'),\n",
       " Timestamp('2015-05-17 02:00:00'),\n",
       " Timestamp('2015-06-27 17:00:00'),\n",
       " Timestamp('2015-06-27 17:00:00'),\n",
       " Timestamp('2015-08-08 08:00:00'),\n",
       " Timestamp('2015-08-08 08:00:00'),\n",
       " Timestamp('2015-09-18 23:00:00'),\n",
       " Timestamp('2015-09-18 23:00:00'),\n",
       " Timestamp('2015-10-30 14:00:00'),\n",
       " Timestamp('2015-10-30 14:00:00'),\n",
       " Timestamp('2015-12-11 05:00:00'),\n",
       " Timestamp('2015-12-11 05:00:00'),\n",
       " Timestamp('2016-01-21 20:00:00'),\n",
       " Timestamp('2016-01-21 20:00:00'),\n",
       " Timestamp('2016-03-03 11:00:00'),\n",
       " Timestamp('2016-03-03 11:00:00'),\n",
       " Timestamp('2016-04-14 02:00:00'),\n",
       " Timestamp('2016-04-14 02:00:00'),\n",
       " Timestamp('2016-05-25 17:00:00'),\n",
       " Timestamp('2016-05-25 17:00:00'),\n",
       " Timestamp('2016-07-06 08:00:00'),\n",
       " Timestamp('2016-07-06 08:00:00'),\n",
       " Timestamp('2016-08-16 23:00:00'),\n",
       " Timestamp('2016-08-16 23:00:00'),\n",
       " Timestamp('2016-09-27 14:00:00'),\n",
       " Timestamp('2016-09-27 14:00:00'),\n",
       " Timestamp('2016-11-08 05:00:00'),\n",
       " Timestamp('2016-11-08 05:00:00'),\n",
       " Timestamp('2016-12-19 20:00:00'),\n",
       " Timestamp('2016-12-19 20:00:00'),\n",
       " Timestamp('2017-01-30 11:00:00'),\n",
       " Timestamp('2017-01-30 11:00:00'),\n",
       " Timestamp('2017-03-13 02:00:00'),\n",
       " Timestamp('2017-03-13 02:00:00'),\n",
       " Timestamp('2017-04-23 17:00:00'),\n",
       " Timestamp('2017-04-23 17:00:00'),\n",
       " Timestamp('2017-06-04 08:00:00'),\n",
       " Timestamp('2017-06-04 08:00:00'),\n",
       " Timestamp('2017-07-15 23:00:00'),\n",
       " Timestamp('2017-07-15 23:00:00'),\n",
       " Timestamp('2017-08-26 14:00:00'),\n",
       " Timestamp('2017-08-26 14:00:00'),\n",
       " Timestamp('2017-10-07 05:00:00'),\n",
       " Timestamp('2017-10-07 05:00:00'),\n",
       " Timestamp('2017-11-17 20:00:00'),\n",
       " Timestamp('2017-11-17 20:00:00'),\n",
       " Timestamp('2017-12-29 11:00:00'),\n",
       " Timestamp('2017-12-29 11:00:00'),\n",
       " Timestamp('2018-02-09 02:00:00'),\n",
       " Timestamp('2018-02-09 02:00:00'),\n",
       " Timestamp('2018-03-22 17:00:00'),\n",
       " Timestamp('2018-03-22 17:00:00'),\n",
       " Timestamp('2018-05-03 08:00:00'),\n",
       " Timestamp('2018-05-03 08:00:00'),\n",
       " Timestamp('2018-06-13 23:00:00'),\n",
       " Timestamp('2018-06-13 23:00:00'),\n",
       " Timestamp('2018-07-25 14:00:00'),\n",
       " Timestamp('2018-07-25 14:00:00'),\n",
       " Timestamp('2018-09-05 05:00:00'),\n",
       " Timestamp('2018-09-05 05:00:00'),\n",
       " Timestamp('2018-10-16 20:00:00'),\n",
       " Timestamp('2018-10-16 20:00:00'),\n",
       " Timestamp('2018-11-27 11:00:00'),\n",
       " Timestamp('2018-11-27 11:00:00'),\n",
       " Timestamp('2019-01-08 02:00:00'),\n",
       " Timestamp('2019-01-08 02:00:00')]"
      ]
     },
     "execution_count": 248,
     "metadata": {},
     "output_type": "execute_result"
    }
   ],
   "source": [
    "\n",
    "dates=[]\n",
    "for i in d.index:\n",
    "           if str(type(d.loc[i]['close']))!=\"<class 'numpy.float64'>\":\n",
    "            dates.append(i)\n",
    "dates \n",
    "\n",
    "mylist = list(set(dates))#get unique values\n",
    "mylist"
   ]
  }
 ],
 "metadata": {
  "kernelspec": {
   "display_name": "Python 3",
   "language": "python",
   "name": "python3"
  },
  "language_info": {
   "codemirror_mode": {
    "name": "ipython",
    "version": 3
   },
   "file_extension": ".py",
   "mimetype": "text/x-python",
   "name": "python",
   "nbconvert_exporter": "python",
   "pygments_lexer": "ipython3",
   "version": "3.6.5"
  }
 },
 "nbformat": 4,
 "nbformat_minor": 2
}
